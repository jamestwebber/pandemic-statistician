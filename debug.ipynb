{
 "cells": [
  {
   "cell_type": "code",
   "execution_count": 1,
   "metadata": {},
   "outputs": [],
   "source": [
    "import pandemic.constants as c"
   ]
  },
  {
   "cell_type": "code",
   "execution_count": 2,
   "metadata": {},
   "outputs": [],
   "source": [
    "from collections import Counter"
   ]
  },
  {
   "cell_type": "code",
   "execution_count": 3,
   "metadata": {},
   "outputs": [
    {
     "data": {
      "text/plain": [
       "48"
      ]
     },
     "execution_count": 3,
     "metadata": {},
     "output_type": "execute_result"
    }
   ],
   "source": [
    "sum(city.infection_cards for city in c.cities if city != c.hollow_men) - sum(c.infection_cards_in_box_six.values())"
   ]
  },
  {
   "cell_type": "code",
   "execution_count": 4,
   "metadata": {},
   "outputs": [
    {
     "data": {
      "text/plain": [
       "[City(name='Atlanta', color='blue', player_cards=1, infection_cards=0),\n",
       " City(name='Chicago', color='blue', player_cards=2, infection_cards=2),\n",
       " City(name='London', color='blue', player_cards=4, infection_cards=3),\n",
       " City(name='New York', color='blue', player_cards=4, infection_cards=3),\n",
       " City(name='Washington', color='blue', player_cards=4, infection_cards=3),\n",
       " City(name='San Francisco', color='blue', player_cards=2, infection_cards=2),\n",
       " City(name='Denver', color='blue', player_cards=2, infection_cards=2),\n",
       " City(name='Paris', color='blue', player_cards=2, infection_cards=2),\n",
       " City(name='Frankfurt', color='blue', player_cards=2, infection_cards=2),\n",
       " City(name='St. Petersburg', color='blue', player_cards=1, infection_cards=1),\n",
       " City(name='Bogotá', color='yellow', player_cards=2, infection_cards=2),\n",
       " City(name='Buenos Aires', color='yellow', player_cards=2, infection_cards=0),\n",
       " City(name='Jacksonville', color='yellow', player_cards=4, infection_cards=3),\n",
       " City(name='Khartoum', color='yellow', player_cards=1, infection_cards=0),\n",
       " City(name='Kinshasa', color='yellow', player_cards=1, infection_cards=1),\n",
       " City(name='Lagos', color='yellow', player_cards=4, infection_cards=3),\n",
       " City(name='Lima', color='yellow', player_cards=1, infection_cards=1),\n",
       " City(name='Los Angeles', color='yellow', player_cards=1, infection_cards=1),\n",
       " City(name='São Paulo', color='yellow', player_cards=4, infection_cards=3),\n",
       " City(name='Santiago', color='yellow', player_cards=1, infection_cards=1),\n",
       " City(name='Baghdad', color='black', player_cards=2, infection_cards=2),\n",
       " City(name='Cairo', color='black', player_cards=4, infection_cards=3),\n",
       " City(name='Delhi', color='black', player_cards=1, infection_cards=1),\n",
       " City(name='Istanbul', color='black', player_cards=4, infection_cards=3),\n",
       " City(name='Kolkata', color='black', player_cards=1, infection_cards=1),\n",
       " City(name='Moscow', color='black', player_cards=1, infection_cards=0),\n",
       " City(name='New Mumbai', color='black', player_cards=2, infection_cards=2),\n",
       " City(name='Tehran', color='black', player_cards=1, infection_cards=1),\n",
       " City(name='Tripoli', color='black', player_cards=4, infection_cards=3),\n",
       " City(name='Ho Chi Minh City', color='red', player_cards=1, infection_cards=1),\n",
       " City(name='Jakarta', color='red', player_cards=1, infection_cards=1),\n",
       " City(name='Hollow Men Gather', color='white', player_cards=0, infection_cards=8)]"
      ]
     },
     "execution_count": 4,
     "metadata": {},
     "output_type": "execute_result"
    }
   ],
   "source": [
    "c.cities"
   ]
  },
  {
   "cell_type": "code",
   "execution_count": 2,
   "metadata": {},
   "outputs": [
    {
     "data": {
      "text/plain": [
       "(67, 10, 82)"
      ]
     },
     "execution_count": 2,
     "metadata": {},
     "output_type": "execute_result"
    }
   ],
   "source": [
    "city_cards = sum(city.player_cards for city in c.cities) - sum(\n",
    "    c.player_cards_in_box_six.values()\n",
    ")\n",
    "epidemic_cards = c.epidemics[\n",
    "    min((k for k in c.epidemics if k >= city_cards), default=-1)\n",
    "]\n",
    "\n",
    "# deck size after dealing the initial hands\n",
    "post_setup_deck_size = (\n",
    "    city_cards\n",
    "    + epidemic_cards\n",
    "    + 0\n",
    "    + c.extra_cards\n",
    "    - c.num_players * c.initial_hand_size[c.num_players]\n",
    ")\n",
    "city_cards, epidemic_cards, post_setup_deck_size"
   ]
  },
  {
   "cell_type": "code",
   "execution_count": 3,
   "metadata": {},
   "outputs": [
    {
     "data": {
      "text/plain": [
       "13"
      ]
     },
     "execution_count": 3,
     "metadata": {},
     "output_type": "execute_result"
    }
   ],
   "source": [
    "c.extra_cards"
   ]
  },
  {
   "cell_type": "code",
   "execution_count": null,
   "metadata": {},
   "outputs": [],
   "source": [
    "Counter((i % epidemic_cards) for i in range(post_setup_deck_size))"
   ]
  },
  {
   "cell_type": "code",
   "execution_count": 5,
   "metadata": {},
   "outputs": [],
   "source": [
    "epidemics = {36: 5, 44: 6, 51: 7, 57: 8, 62: 9, -1: 10}"
   ]
  },
  {
   "cell_type": "code",
   "execution_count": 6,
   "metadata": {},
   "outputs": [
    {
     "name": "stdout",
     "output_type": "stream",
     "text": [
      "57 8\n",
      "58 9\n",
      "59 9\n",
      "60 9\n",
      "61 9\n",
      "62 9\n",
      "63 10\n",
      "64 10\n"
     ]
    }
   ],
   "source": [
    "for city_cards in range(57, 65):\n",
    "    print(city_cards, epidemics[min((k for k in epidemics if k >= city_cards), default=-1)])\n"
   ]
  },
  {
   "cell_type": "code",
   "execution_count": 7,
   "metadata": {},
   "outputs": [
    {
     "data": {
      "text/plain": [
       "66"
      ]
     },
     "execution_count": 7,
     "metadata": {},
     "output_type": "execute_result"
    }
   ],
   "source": [
    "sum(ct.player_cards for ct in c.cities)"
   ]
  },
  {
   "cell_type": "code",
   "execution_count": null,
   "metadata": {},
   "outputs": [],
   "source": [
    "\n",
    "def nb_pmf(k, m, n, r):\n",
    "    p = n / (n + r)\n",
    "    \n",
    "\n",
    "\n",
    "    "
   ]
  }
 ],
 "metadata": {
  "kernelspec": {
   "display_name": "Python [conda env:pandemic]",
   "language": "python",
   "name": "conda-env-pandemic-py"
  },
  "language_info": {
   "codemirror_mode": {
    "name": "ipython",
    "version": 3
   },
   "file_extension": ".py",
   "mimetype": "text/x-python",
   "name": "python",
   "nbconvert_exporter": "python",
   "pygments_lexer": "ipython3",
   "version": "3.8.0"
  }
 },
 "nbformat": 4,
 "nbformat_minor": 4
}
